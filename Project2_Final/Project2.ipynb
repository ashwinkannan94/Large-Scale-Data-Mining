{
 "cells": [
  {
   "cell_type": "code",
   "execution_count": 1,
   "metadata": {
    "collapsed": true
   },
   "outputs": [],
   "source": [
    "from sklearn.datasets import fetch_20newsgroups\n",
    "from sklearn.feature_extraction.text import CountVectorizer\n",
    "from sklearn.feature_extraction import text\n",
    "from sklearn.feature_extraction.text import TfidfTransformer\n",
    "from sklearn.cluster import KMeans\n",
    "from sklearn import metrics\n",
    "from sklearn.metrics import confusion_matrix\n",
    "from scipy.sparse import linalg\n",
    "import numpy as np\n",
    "import matplotlib.pyplot as plt\n",
    "from sklearn.decomposition import TruncatedSVD\n",
    "from sklearn.decomposition import NMF"
   ]
  },
  {
   "cell_type": "markdown",
   "metadata": {},
   "source": [
    "## Part 1"
   ]
  },
  {
   "cell_type": "code",
   "execution_count": 30,
   "metadata": {
    "collapsed": true
   },
   "outputs": [],
   "source": [
    "categories = ['comp.graphics', 'comp.os.ms-windows.misc', 'comp.sys.ibm.pc.hardware',\n",
    "              'comp.sys.mac.hardware', 'rec.autos', 'rec.motorcycles', 'rec.sport.baseball', 'rec.sport.hockey']\n"
   ]
  },
  {
   "cell_type": "code",
   "execution_count": 31,
   "metadata": {
    "collapsed": true
   },
   "outputs": [],
   "source": [
    "dataset = fetch_20newsgroups(subset='all', categories=categories, shuffle=True, random_state=42, remove=('headers', 'footers', 'quotes'))"
   ]
  },
  {
   "cell_type": "code",
   "execution_count": 32,
   "metadata": {
    "collapsed": true
   },
   "outputs": [],
   "source": [
    "stop_words = text.ENGLISH_STOP_WORDS\n"
   ]
  },
  {
   "cell_type": "code",
   "execution_count": 33,
   "metadata": {
    "collapsed": true
   },
   "outputs": [],
   "source": [
    "labels = (dataset.target[:] >= 4) * 1"
   ]
  },
  {
   "cell_type": "code",
   "execution_count": 34,
   "metadata": {
    "collapsed": true
   },
   "outputs": [],
   "source": [
    "count_vect = CountVectorizer(analyzer='word', min_df=3, stop_words=stop_words)\n",
    "Data_counts = count_vect.fit_transform(dataset.data)"
   ]
  },
  {
   "cell_type": "code",
   "execution_count": 35,
   "metadata": {},
   "outputs": [
    {
     "name": "stdout",
     "output_type": "stream",
     "text": [
      "(7882, 18469)\n"
     ]
    }
   ],
   "source": [
    "tfidf_transformer = TfidfTransformer()\n",
    "Data_tfidf = tfidf_transformer.fit_transform(Data_counts)\n",
    "print(Data_tfidf.shape)"
   ]
  },
  {
   "cell_type": "markdown",
   "metadata": {},
   "source": [
    "## Part 2"
   ]
  },
  {
   "cell_type": "code",
   "execution_count": 8,
   "metadata": {},
   "outputs": [
    {
     "data": {
      "text/plain": [
       "KMeans(algorithm='auto', copy_x=True, init='k-means++', max_iter=300,\n",
       "    n_clusters=2, n_init=1, n_jobs=1, precompute_distances='auto',\n",
       "    random_state=None, tol=0.0001, verbose=0)"
      ]
     },
     "execution_count": 8,
     "metadata": {},
     "output_type": "execute_result"
    }
   ],
   "source": [
    "k_means = KMeans(n_clusters=2, init='k-means++', max_iter=300, n_init=1)\n",
    "k_means.fit(Data_tfidf)"
   ]
  },
  {
   "cell_type": "code",
   "execution_count": 9,
   "metadata": {},
   "outputs": [
    {
     "name": "stdout",
     "output_type": "stream",
     "text": [
      "Homogeneity:  0.364087707357\n",
      "Completeness:  0.401294286754\n",
      "V-measure:  0.381786658071\n",
      "Adjusted Rand-Index:  0.36309558238\n",
      "Adjusted Mutual-Index:  0.364029487281\n",
      "Contingency Matrix:  [[  65 3838]\n",
      " [2478 1501]]\n",
      "Contingency Matrix:  [[2478 1501]\n",
      " [  65 3838]]\n"
     ]
    }
   ],
   "source": [
    "print('Homogeneity: ', metrics.homogeneity_score(labels, k_means.labels_))\n",
    "print('Completeness: ', metrics.completeness_score(labels, k_means.labels_))\n",
    "print('V-measure: ', metrics.v_measure_score(labels, k_means.labels_))\n",
    "print('Adjusted Rand-Index: ', metrics.adjusted_rand_score(labels, k_means.labels_))\n",
    "print('Adjusted Mutual-Index: ', metrics.adjusted_mutual_info_score(labels, k_means.labels_))\n",
    "print('Contingency Matrix: ', confusion_matrix(labels, k_means.labels_))\n",
    "\n",
    "labels_2 = (dataset.target[:] < 4) * 1\n",
    "print('Contingency Matrix: ', confusion_matrix(labels_2, k_means.labels_))"
   ]
  },
  {
   "cell_type": "markdown",
   "metadata": {},
   "source": [
    "## Part 3"
   ]
  },
  {
   "cell_type": "code",
   "execution_count": 10,
   "metadata": {
    "collapsed": true
   },
   "outputs": [],
   "source": [
    "Data_tfidf_transpose = np.transpose(Data_tfidf)\n",
    "x = np.matmul(Data_tfidf.toarray(), Data_tfidf_transpose.toarray())\n",
    "total_variance = np.matrix.trace(x)"
   ]
  },
  {
   "cell_type": "markdown",
   "metadata": {},
   "source": [
    "### Part A"
   ]
  },
  {
   "cell_type": "code",
   "execution_count": 11,
   "metadata": {},
   "outputs": [
    {
     "data": {
      "image/png": "[encoded data removed]",
      "text/plain": [
       "<matplotlib.figure.Figure at 0x112316d68>"
      ]
     },
     "metadata": {},
     "output_type": "display_data"
    }
   ],
   "source": [
    "u, singular_values, vt = linalg.svds(Data_tfidf, 1000)\n",
    "singular_values = singular_values[::-1]\n",
    "singular_values_squared = np.square(singular_values)\n",
    "sum_of_singular_squared_values = np.zeros(len(singular_values_squared))\n",
    "for a in range(len(singular_values_squared)):\n",
    "    sum_of_singular_squared_values[a] = np.sum(singular_values_squared[0:a + 1:1])\n",
    "\n",
    "singular_values_percentage = np.zeros(len(sum_of_singular_squared_values))\n",
    "for a in range(len(sum_of_singular_squared_values)):\n",
    "    singular_values_percentage[a] = sum_of_singular_squared_values[a] / total_variance\n",
    "plt.figure(1)\n",
    "plt.plot(range(1, 1001), singular_values_percentage)\n",
    "plt.xlabel('Index')\n",
    "plt.ylabel('Percentage of Variance')\n",
    "plt.title('Index VS Percentage of Variance')\n",
    "plt.show()"
   ]
  },
  {
   "cell_type": "markdown",
   "metadata": {},
   "source": [
    "### Part B"
   ]
  },
  {
   "cell_type": "code",
   "execution_count": 12,
   "metadata": {},
   "outputs": [
    {
     "name": "stdout",
     "output_type": "stream",
     "text": [
      "SVD Computations Starting...\n",
      "Number of components: 1\n",
      "Homogeneity:  0.060815390048\n",
      "Completeness:  0.0618672085677\n",
      "V-measure:  0.061336790428\n",
      "Adjusted Rand-Index:  0.081807139568\n",
      "Adjusted Mutual-Index:  0.0607294069086\n",
      "Contingency Matrix:  [[1690 2213]\n",
      " [2856 1123]]\n",
      "Number of components: 2\n",
      "Homogeneity:  0.415423960897\n",
      "Completeness:  0.449810339578\n",
      "V-measure:  0.431933853795\n",
      "Adjusted Rand-Index:  0.432834606981\n",
      "Adjusted Mutual-Index:  0.415370441217\n",
      "Contingency Matrix:  [[1291 2612]\n",
      " [3922   57]]\n",
      "Number of components: 3\n",
      "Homogeneity:  0.41689740228\n",
      "Completeness:  0.450632712865\n",
      "V-measure:  0.433109131536\n",
      "Adjusted Rand-Index:  0.435845275329\n",
      "Adjusted Mutual-Index:  0.416844017534\n",
      "Contingency Matrix:  [[1280 2623]\n",
      " [3920   59]]\n",
      "Number of components: 5\n",
      "Homogeneity:  0.0524666434717\n",
      "Completeness:  0.156609460567\n",
      "V-measure:  0.0786007829029\n",
      "Adjusted Rand-Index:  0.0156130714971\n",
      "Adjusted Mutual-Index:  0.0523798235673\n",
      "Contingency Matrix:  [[3431  472]\n",
      " [3963   16]]\n",
      "Number of components: 10\n",
      "Homogeneity:  0.417407548897\n",
      "Completeness:  0.455870809029\n",
      "V-measure:  0.435792128096\n",
      "Adjusted Rand-Index:  0.424526467429\n",
      "Adjusted Mutual-Index:  0.41735421064\n",
      "Contingency Matrix:  [[1335 2568]\n",
      " [3941   38]]\n",
      "Number of components: 20\n",
      "Homogeneity:  0.179445553327\n",
      "Completeness:  0.278667417886\n",
      "V-measure:  0.218311343005\n",
      "Adjusted Rand-Index:  0.100019404257\n",
      "Adjusted Mutual-Index:  0.179370415628\n",
      "Contingency Matrix:  [[3899    4]\n",
      " [2690 1289]]\n",
      "Number of components: 50\n",
      "Homogeneity:  0.180263158323\n",
      "Completeness:  0.279291596205\n",
      "V-measure:  0.219107667711\n",
      "Adjusted Rand-Index:  0.100823937169\n",
      "Adjusted Mutual-Index:  0.1801880956\n",
      "Contingency Matrix:  [[   4 3899]\n",
      " [1294 2685]]\n",
      "Number of components: 100\n",
      "Homogeneity:  0.41291910567\n",
      "Completeness:  0.453968656317\n",
      "V-measure:  0.432471975701\n",
      "Adjusted Rand-Index:  0.41400940167\n",
      "Adjusted Mutual-Index:  0.41286535634\n",
      "Contingency Matrix:  [[2529 1374]\n",
      " [  31 3948]]\n",
      "Number of components: 300\n",
      "Homogeneity:  0.0420291006265\n",
      "Completeness:  0.141489973334\n",
      "V-measure:  0.0648073924804\n",
      "Adjusted Rand-Index:  0.0111510583388\n",
      "Adjusted Mutual-Index:  0.0419413082613\n",
      "Contingency Matrix:  [[3506  397]\n",
      " [3962   17]]\n",
      "NMF Computations Starting....\n",
      "Number of components: 1\n",
      "Homogeneity:  0.060823618102\n",
      "Completeness:  0.061882723371\n",
      "V-measure:  0.0613486000519\n",
      "Adjusted Rand-Index:  0.081807144427\n",
      "Adjusted Mutual-Index:  0.0607376357123\n",
      "Contingency Matrix:  [[1691 2212]\n",
      " [2857 1122]]\n",
      "Number of components: 2\n",
      "Homogeneity:  0.38246592273\n",
      "Completeness:  0.395663840011\n",
      "V-measure:  0.388952955938\n",
      "Adjusted Rand-Index:  0.441896927345\n",
      "Adjusted Mutual-Index:  0.382409386621\n",
      "Contingency Matrix:  [[3684  219]\n",
      " [1102 2877]]\n",
      "Number of components: 3\n",
      "Homogeneity:  0.46029681395\n",
      "Completeness:  0.460827796506\n",
      "V-measure:  0.460562152185\n",
      "Adjusted Rand-Index:  0.563682342664\n",
      "Adjusted Mutual-Index:  0.460247403952\n",
      "Contingency Matrix:  [[3512  391]\n",
      " [ 591 3388]]\n",
      "Number of components: 5\n",
      "Homogeneity:  0.0385874946881\n",
      "Completeness:  0.13761434794\n",
      "V-measure:  0.0602739771723\n",
      "Adjusted Rand-Index:  0.0096445723337\n",
      "Adjusted Mutual-Index:  0.0384993782835\n",
      "Contingency Matrix:  [[ 367 3536]\n",
      " [  16 3963]]\n",
      "Number of components: 10\n",
      "Homogeneity:  0.117469859902\n",
      "Completeness:  0.226756940736\n",
      "V-measure:  0.15476485858\n",
      "Adjusted Rand-Index:  0.0478504472005\n",
      "Adjusted Mutual-Index:  0.11738903452\n",
      "Contingency Matrix:  [[3896    7]\n",
      " [3071  908]]\n",
      "Number of components: 20\n",
      "Homogeneity:  0.113079522548\n",
      "Completeness:  0.229004239206\n",
      "V-measure:  0.151399703383\n",
      "Adjusted Rand-Index:  0.0420374189583\n",
      "Adjusted Mutual-Index:  0.112998291789\n",
      "Contingency Matrix:  [[3901    2]\n",
      " [3130  849]]\n",
      "Number of components: 50\n",
      "Homogeneity:  0.0552165402282\n",
      "Completeness:  0.155924611533\n",
      "V-measure:  0.0815531933351\n",
      "Adjusted Rand-Index:  0.0132292876587\n",
      "Adjusted Mutual-Index:  0.0551299788506\n",
      "Contingency Matrix:  [[  17 3886]\n",
      " [ 510 3469]]\n",
      "Number of components: 100\n",
      "Homogeneity:  0.00234422585192\n",
      "Completeness:  0.00458467730413\n",
      "V-measure:  0.00310222810653\n",
      "Adjusted Rand-Index:  0.000715563653629\n",
      "Adjusted Mutual-Index:  0.00225285584987\n",
      "Contingency Matrix:  [[ 373 3530]\n",
      " [ 524 3455]]\n",
      "Number of components: 300\n",
      "Homogeneity:  0.0223536457768\n",
      "Completeness:  0.148170181637\n",
      "V-measure:  0.0388466973235\n",
      "Adjusted Rand-Index:  0.00271682658235\n",
      "Adjusted Mutual-Index:  0.022263895151\n",
      "Contingency Matrix:  [[3732  171]\n",
      " [3979    0]]\n"
     ]
    },
    {
     "data": {
      "image/png": "[encoded data removed]",
      "text/plain": [
       "<matplotlib.figure.Figure at 0x1a1c1ad3c8>"
      ]
     },
     "metadata": {},
     "output_type": "display_data"
    },
    {
     "data": {
      "image/png": "[encoded data removed]",
      "text/plain": [
       "<matplotlib.figure.Figure at 0x1a1c1af048>"
      ]
     },
     "metadata": {},
     "output_type": "display_data"
    },
    {
     "data": {
      "image/png": "[encoded data removed]",
      "text/plain": [
       "<matplotlib.figure.Figure at 0x1a159b8cf8>"
      ]
     },
     "metadata": {},
     "output_type": "display_data"
    },
    {
     "data": {
      "image/png": "[encoded data removed]",
      "text/plain": [
       "<matplotlib.figure.Figure at 0x1a159cd198>"
      ]
     },
     "metadata": {},
     "output_type": "display_data"
    },
    {
     "data": {
      "image/png": "[encoded data removed]",
      "text/plain": [
       "<matplotlib.figure.Figure at 0x1a159ca550>"
      ]
     },
     "metadata": {},
     "output_type": "display_data"
    },
    {
     "data": {
      "image/png": "[encoded data removed]",
      "text/plain": [
       "<matplotlib.figure.Figure at 0x1a15a0eb70>"
      ]
     },
     "metadata": {},
     "output_type": "display_data"
    },
    {
     "data": {
      "image/png": "[encoded data removed]",
      "text/plain": [
       "<matplotlib.figure.Figure at 0x1a15a1eb70>"
      ]
     },
     "metadata": {},
     "output_type": "display_data"
    },
    {
     "data": {
      "image/png": "[encoded data removed]",
      "text/plain": [
       "<matplotlib.figure.Figure at 0x1a159cedd8>"
      ]
     },
     "metadata": {},
     "output_type": "display_data"
    },
    {
     "data": {
      "image/png": "[encoded data removed]",
      "text/plain": [
       "<matplotlib.figure.Figure at 0x1a159fff28>"
      ]
     },
     "metadata": {},
     "output_type": "display_data"
    },
    {
     "data": {
      "image/png": "[encoded data removed]",
      "text/plain": [
       "<matplotlib.figure.Figure at 0x1a15a22fd0>"
      ]
     },
     "metadata": {},
     "output_type": "display_data"
    }
   ],
   "source": [
    "k_means = KMeans(n_clusters=2, init='k-means++', max_iter=300, n_init=1)\n",
    "r_values = [1, 2, 3, 5, 10, 20, 50, 100, 300]\n",
    "homogeneity_svd = np.zeros(len(r_values))\n",
    "completeness_svd = np.zeros(len(r_values))\n",
    "v_measure_svd = np.zeros(len(r_values))\n",
    "rand_index_svd = np.zeros(len(r_values))\n",
    "mutual_index_svd = np.zeros(len(r_values))\n",
    "print('SVD Computations Starting...')\n",
    "index = 0\n",
    "for i in r_values:\n",
    "    svd = TruncatedSVD(n_components=i, random_state=42)\n",
    "    trauncated_tfidf = svd.fit_transform(Data_tfidf)\n",
    "    print(\"Number of components: %d\" % i)\n",
    "    k_means.fit(trauncated_tfidf)\n",
    "    print('Homogeneity: ', metrics.homogeneity_score(labels, k_means.labels_))\n",
    "    homogeneity_svd[index] = metrics.homogeneity_score(labels, k_means.labels_)\n",
    "    print('Completeness: ', metrics.completeness_score(labels, k_means.labels_))\n",
    "    completeness_svd[index] = metrics.completeness_score(labels, k_means.labels_)\n",
    "    print('V-measure: ', metrics.v_measure_score(labels, k_means.labels_))\n",
    "    v_measure_svd[index] = metrics.v_measure_score(labels, k_means.labels_)\n",
    "    print('Adjusted Rand-Index: ', metrics.adjusted_rand_score(labels, k_means.labels_))\n",
    "    rand_index_svd[index] = metrics.adjusted_rand_score(labels, k_means.labels_)\n",
    "    print('Adjusted Mutual-Index: ', metrics.adjusted_mutual_info_score(labels, k_means.labels_))\n",
    "    mutual_index_svd[index] = metrics.adjusted_mutual_info_score(labels, k_means.labels_)\n",
    "    print('Contingency Matrix: ', confusion_matrix(labels, k_means.labels_))\n",
    "    index += 1\n",
    "\n",
    "plt.figure(2)\n",
    "plt.scatter(r_values, homogeneity_svd)\n",
    "plt.xlabel('Index')\n",
    "plt.ylabel('Homogeneity Value')\n",
    "plt.title('Index VS Homogeneity Value for SVD')\n",
    "plt.figure(3)\n",
    "plt.scatter(r_values, completeness_svd)\n",
    "plt.xlabel('Index')\n",
    "plt.ylabel('Completeness Value')\n",
    "plt.title('Index VS Completeness Value for SVD')\n",
    "plt.figure(4)\n",
    "plt.scatter(r_values, v_measure_svd)\n",
    "plt.xlabel('Index')\n",
    "plt.ylabel('V Measure Value')\n",
    "plt.title('Index VS V Measure Value for SVD')\n",
    "plt.figure(5)\n",
    "plt.scatter(r_values, rand_index_svd)\n",
    "plt.xlabel('Index')\n",
    "plt.ylabel('Adjusted Rand-Index Value')\n",
    "plt.title('Index VS Adjusted Rand-Index Value for SVD')\n",
    "plt.figure(6)\n",
    "plt.scatter(r_values, mutual_index_svd)\n",
    "plt.xlabel('Index')\n",
    "plt.ylabel('Adjusted Mutual-Index Value')\n",
    "plt.title('Index VS Adjusted Mutual-Index Value for SVD')\n",
    "\n",
    "\n",
    "# NMF\n",
    "print('NMF Computations Starting....')\n",
    "homogeneity_nmf = np.zeros(len(r_values))\n",
    "completeness_nmf = np.zeros(len(r_values))\n",
    "v_measure_nmf = np.zeros(len(r_values))\n",
    "rand_index_nmf = np.zeros(len(r_values))\n",
    "mutual_index_nmf = np.zeros(len(r_values))\n",
    "index = 0\n",
    "for i in r_values:\n",
    "    nmf = NMF(n_components=i, init='random', random_state=42)\n",
    "    nmf_tfidf = nmf.fit_transform(Data_tfidf)\n",
    "    print(\"Number of components: %d\" % i)\n",
    "    k_means.fit(nmf_tfidf)\n",
    "    print('Homogeneity: ', metrics.homogeneity_score(labels, k_means.labels_))\n",
    "    homogeneity_nmf[index] = metrics.homogeneity_score(labels, k_means.labels_)\n",
    "    print('Completeness: ', metrics.completeness_score(labels, k_means.labels_))\n",
    "    completeness_nmf[index] = metrics.completeness_score(labels, k_means.labels_)\n",
    "    print('V-measure: ', metrics.v_measure_score(labels, k_means.labels_))\n",
    "    v_measure_svd[index] = metrics.v_measure_score(labels, k_means.labels_)\n",
    "    print('Adjusted Rand-Index: ', metrics.adjusted_rand_score(labels, k_means.labels_))\n",
    "    rand_index_nmf[index] = metrics.adjusted_rand_score(labels, k_means.labels_)\n",
    "    print('Adjusted Mutual-Index: ', metrics.adjusted_mutual_info_score(labels, k_means.labels_))\n",
    "    mutual_index_nmf[index] = metrics.adjusted_mutual_info_score(labels, k_means.labels_)\n",
    "    print('Contingency Matrix: ', confusion_matrix(labels, k_means.labels_))\n",
    "    index += 1\n",
    "\n",
    "plt.figure(7)\n",
    "plt.scatter(r_values, homogeneity_nmf)\n",
    "plt.xlabel('Index')\n",
    "plt.ylabel('Homogeneity Value')\n",
    "plt.title('Index VS Homogeneity Value for NMF')\n",
    "plt.figure(8)\n",
    "plt.scatter(r_values, completeness_nmf)\n",
    "plt.xlabel('Index')\n",
    "plt.ylabel('Completeness Value')\n",
    "plt.title('Index VS Completeness Value for NMF')\n",
    "plt.figure(9)\n",
    "plt.scatter(r_values, v_measure_nmf)\n",
    "plt.xlabel('Index')\n",
    "plt.ylabel('V Measure Value')\n",
    "plt.title('Index VS V Measure Value for NMF')\n",
    "plt.figure(10)\n",
    "plt.scatter(r_values, rand_index_nmf)\n",
    "plt.xlabel('Index')\n",
    "plt.ylabel('Adjusted Rand-Index Value')\n",
    "plt.title('Index VS Adjusted Rand-Index Value for NMF')\n",
    "plt.figure(11)\n",
    "plt.scatter(r_values, mutual_index_nmf)\n",
    "plt.xlabel('Index')\n",
    "plt.ylabel('Adjusted Mutual-Index Value')\n",
    "plt.title('Index VS Adjusted Mutual-Index Value for NMF')\n",
    "plt.show()\n"
   ]
  },
  {
   "cell_type": "markdown",
   "metadata": {},
   "source": [
    "## Part 4"
   ]
  },
  {
   "cell_type": "markdown",
   "metadata": {},
   "source": [
    "### Part A"
   ]
  },
  {
   "cell_type": "code",
   "execution_count": 13,
   "metadata": {
    "collapsed": true
   },
   "outputs": [],
   "source": [
    "def plot_main(datapoints, kmean):\n",
    "    for i in range(datapoints.shape[0]):\n",
    "        if (labels[i] == 0):\n",
    "            color = 'r'\n",
    "        else:\n",
    "            color = 'b'\n",
    "        plt.scatter(datapoints[i, 0], datapoints[i, 1], color=color)\n",
    "\n",
    "    center_of_k_mean = kmean.cluster_centers_\n",
    "    plt.scatter(center_of_k_mean[:, 0], center_of_k_mean[:, 1], marker='X', s=100, color='w')\n",
    "    plt.show()"
   ]
  },
  {
   "cell_type": "code",
   "execution_count": 14,
   "metadata": {},
   "outputs": [
    {
     "data": {
      "image/png": "[encoded data removed]",
      "text/plain": [
       "<matplotlib.figure.Figure at 0x1a159bea58>"
      ]
     },
     "metadata": {},
     "output_type": "display_data"
    }
   ],
   "source": [
    "svd = TruncatedSVD(n_components=2, random_state=42)\n",
    "truncated_tfidf = svd.fit_transform(Data_tfidf)\n",
    "k_means = KMeans(n_clusters=2, init='k-means++', max_iter=300, n_init=1)\n",
    "k_means.fit(truncated_tfidf)\n",
    "plot_main(truncated_tfidf, k_means)"
   ]
  },
  {
   "cell_type": "code",
   "execution_count": 39,
   "metadata": {},
   "outputs": [
    {
     "data": {
      "image/png": "[encoded data removed]",
      "text/plain": [
       "<matplotlib.figure.Figure at 0x1a1c716b38>"
      ]
     },
     "metadata": {},
     "output_type": "display_data"
    }
   ],
   "source": [
    "nmf = NMF(n_components=3, init='random', random_state=42)\n",
    "nmf_tfidf = nmf.fit_transform(Data_tfidf)\n",
    "k_means_nmf = KMeans(n_clusters=2, init='k-means++', max_iter=300, n_init=1)\n",
    "k_means_nmf.fit(nmf_tfidf)\n",
    "plot_main(nmf_tfidf, k_means_nmf)"
   ]
  },
  {
   "cell_type": "markdown",
   "metadata": {},
   "source": [
    "### Part B"
   ]
  },
  {
   "cell_type": "markdown",
   "metadata": {},
   "source": [
    "#### Normalize Data"
   ]
  },
  {
   "cell_type": "code",
   "execution_count": 16,
   "metadata": {},
   "outputs": [
    {
     "data": {
      "image/png": "[encoded data removed]",
      "text/plain": [
       "<matplotlib.figure.Figure at 0x1104085c0>"
      ]
     },
     "metadata": {},
     "output_type": "display_data"
    },
    {
     "name": "stdout",
     "output_type": "stream",
     "text": [
      "Homogeneity:  0.475905197552\n",
      "Completeness:  0.494126141691\n",
      "V-measure:  0.484844539684\n",
      "Adjusted Rand-Index:  0.533608766189\n",
      "Adjusted Mutual-Index:  0.475857215875\n",
      "Contingency Matrix:  [[ 956 2947]\n",
      " [3873  106]]\n"
     ]
    }
   ],
   "source": [
    "svd = TruncatedSVD(n_components=2, random_state=42, n_iter=13)\n",
    "x = svd.fit_transform(Data_tfidf)\n",
    "normalized_x = (x-x.mean(axis=0, keepdims=True))/(x.std(axis=0, keepdims=True) + x.mean(axis=0, keepdims=True))\n",
    "k_means = KMeans(n_clusters=2, init='k-means++', max_iter=300, n_init=10)\n",
    "k_means.fit(normalized_x)\n",
    "plot_main(normalized_x, k_means)\n",
    "\n",
    "print('Homogeneity: ', metrics.homogeneity_score(labels, k_means.labels_))\n",
    "print('Completeness: ', metrics.completeness_score(labels, k_means.labels_))\n",
    "print('V-measure: ', metrics.v_measure_score(labels, k_means.labels_))\n",
    "print('Adjusted Rand-Index: ', metrics.adjusted_rand_score(labels, k_means.labels_))\n",
    "print('Adjusted Mutual-Index: ', metrics.adjusted_mutual_info_score(labels, k_means.labels_))\n",
    "print('Contingency Matrix: ', confusion_matrix(labels, k_means.labels_))"
   ]
  },
  {
   "cell_type": "markdown",
   "metadata": {},
   "source": [
    "#### Log for non-linear transform"
   ]
  },
  {
   "cell_type": "code",
   "execution_count": 40,
   "metadata": {},
   "outputs": [
    {
     "data": {
      "image/png": "[encoded data removed]",
      "text/plain": [
       "<matplotlib.figure.Figure at 0x1a1c91e828>"
      ]
     },
     "metadata": {},
     "output_type": "display_data"
    },
    {
     "name": "stdout",
     "output_type": "stream",
     "text": [
      "Homogeneity:  0.505891837486\n",
      "Completeness:  0.506595279058\n",
      "V-measure:  0.506243313908\n",
      "Adjusted Rand-Index:  0.61311822321\n",
      "Adjusted Mutual-Index:  0.505846601723\n",
      "Contingency Matrix:  [[ 497 3406]\n",
      " [3621  358]]\n"
     ]
    }
   ],
   "source": [
    "log_nmf_matrix = np.log(0.001+nmf_tfidf)\n",
    "k_means_nmf = KMeans(n_clusters=2, init='k-means++', max_iter=300, n_init=10)\n",
    "k_means_nmf.fit(log_nmf_matrix)\n",
    "plot_main(log_nmf_matrix, k_means_nmf)\n",
    "\n",
    "print('Homogeneity: ', metrics.homogeneity_score(labels, k_means_nmf.labels_))\n",
    "print('Completeness: ', metrics.completeness_score(labels, k_means_nmf.labels_))\n",
    "print('V-measure: ', metrics.v_measure_score(labels, k_means_nmf.labels_))\n",
    "print('Adjusted Rand-Index: ', metrics.adjusted_rand_score(labels, k_means_nmf.labels_))\n",
    "print('Adjusted Mutual-Index: ', metrics.adjusted_mutual_info_score(labels, k_means_nmf.labels_))\n",
    "print('Contingency Matrix: ', confusion_matrix(labels, k_means_nmf.labels_))"
   ]
  },
  {
   "cell_type": "markdown",
   "metadata": {},
   "source": [
    "#### Running log first and then normalizing the data"
   ]
  },
  {
   "cell_type": "code",
   "execution_count": 41,
   "metadata": {},
   "outputs": [
    {
     "data": {
      "image/png": "[encoded data removed]",
      "text/plain": [
       "<matplotlib.figure.Figure at 0x1a1870c7b8>"
      ]
     },
     "metadata": {},
     "output_type": "display_data"
    },
    {
     "name": "stdout",
     "output_type": "stream",
     "text": [
      "Homogeneity:  0.466101019428\n",
      "Completeness:  0.466366307243\n",
      "V-measure:  0.466233625598\n",
      "Adjusted Rand-Index:  0.572481255597\n",
      "Adjusted Mutual-Index:  0.466052140817\n",
      "Contingency Matrix:  [[3384  519]\n",
      " [ 440 3539]]\n"
     ]
    }
   ],
   "source": [
    "x = np.log(0.001+nmf_tfidf)\n",
    "normalized_x = (x-x.mean(axis=0, keepdims=True))/(x.std(axis=0, keepdims=True) + x.mean(axis=0, keepdims=True))\n",
    "k_means = KMeans(n_clusters=2, init='k-means++', max_iter=300, n_init=10)\n",
    "k_means.fit(normalized_x)\n",
    "plot_main(normalized_x, k_means)\n",
    "\n",
    "print('Homogeneity: ', metrics.homogeneity_score(labels, k_means.labels_))\n",
    "print('Completeness: ', metrics.completeness_score(labels, k_means.labels_))\n",
    "print('V-measure: ', metrics.v_measure_score(labels, k_means.labels_))\n",
    "print('Adjusted Rand-Index: ', metrics.adjusted_rand_score(labels, k_means.labels_))\n",
    "print('Adjusted Mutual-Index: ', metrics.adjusted_mutual_info_score(labels, k_means.labels_))\n",
    "print('Contingency Matrix: ', confusion_matrix(labels, k_means.labels_))"
   ]
  },
  {
   "cell_type": "markdown",
   "metadata": {},
   "source": [
    "#### Normalizing the data and the logging it. Added the min value to all points such that log does not return an error"
   ]
  },
  {
   "cell_type": "code",
   "execution_count": 42,
   "metadata": {},
   "outputs": [
    {
     "data": {
      "image/png": "[encoded data removed]",
      "text/plain": [
       "<matplotlib.figure.Figure at 0x1a49cb1b70>"
      ]
     },
     "metadata": {},
     "output_type": "display_data"
    },
    {
     "name": "stdout",
     "output_type": "stream",
     "text": [
      "Homogeneity:  0.46486810155\n",
      "Completeness:  0.465035993491\n",
      "V-measure:  0.464952032365\n",
      "Adjusted Rand-Index:  0.571329701944\n",
      "Adjusted Mutual-Index:  0.464819110069\n",
      "Contingency Matrix:  [[3393  510]\n",
      " [ 452 3527]]\n"
     ]
    }
   ],
   "source": [
    "x = nmf_tfidf\n",
    "normalized_tfidf = (x-x.mean(axis=0, keepdims=True))/(x.std(axis=0, keepdims=True) + x.mean(axis=0, keepdims=True))\n",
    "logging_normalized_x = np.log(0.718657278385+normalized_tfidf)\n",
    "k_means_nmf = KMeans(n_clusters=2, init='k-means++', max_iter=300, n_init=10)\n",
    "k_means_nmf.fit(logging_normalized_x)\n",
    "plot_main(logging_normalized_x, k_means_nmf)\n",
    "\n",
    "print('Homogeneity: ', metrics.homogeneity_score(labels, k_means_nmf.labels_))\n",
    "print('Completeness: ', metrics.completeness_score(labels, k_means_nmf.labels_))\n",
    "print('V-measure: ', metrics.v_measure_score(labels, k_means_nmf.labels_))\n",
    "print('Adjusted Rand-Index: ', metrics.adjusted_rand_score(labels, k_means_nmf.labels_))\n",
    "print('Adjusted Mutual-Index: ', metrics.adjusted_mutual_info_score(labels, k_means_nmf.labels_))\n",
    "print('Contingency Matrix: ', confusion_matrix(labels, k_means_nmf.labels_))"
   ]
  },
  {
   "cell_type": "markdown",
   "metadata": {},
   "source": [
    "## Part 5"
   ]
  },
  {
   "cell_type": "code",
   "execution_count": 20,
   "metadata": {},
   "outputs": [
    {
     "name": "stdout",
     "output_type": "stream",
     "text": [
      "(18846, 35684)\n"
     ]
    }
   ],
   "source": [
    "categories = ['alt.atheism',\n",
    " 'comp.graphics',\n",
    " 'comp.os.ms-windows.misc',\n",
    " 'comp.sys.ibm.pc.hardware',\n",
    " 'comp.sys.mac.hardware',\n",
    " 'comp.windows.x',\n",
    " 'misc.forsale',\n",
    " 'rec.autos',\n",
    " 'rec.motorcycles',\n",
    " 'rec.sport.baseball',\n",
    " 'rec.sport.hockey',\n",
    " 'sci.crypt',\n",
    " 'sci.electronics',\n",
    " 'sci.med',\n",
    " 'sci.space',\n",
    " 'soc.religion.christian',\n",
    " 'talk.politics.guns',\n",
    " 'talk.politics.mideast',\n",
    " 'talk.politics.misc',\n",
    " 'talk.religion.misc']\n",
    "dataset = fetch_20newsgroups(subset='all', categories=categories, shuffle=True, random_state=42, remove=('headers', 'footers', 'quotes'))\n",
    "stop_words = text.ENGLISH_STOP_WORDS\n",
    "labels = dataset.target[:]\n",
    "count_vect = CountVectorizer(analyzer='word', min_df=3, stop_words=stop_words)\n",
    "Data_counts = count_vect.fit_transform(dataset.data)\n",
    "tfidf_transformer = TfidfTransformer()\n",
    "Data_tfidf = tfidf_transformer.fit_transform(Data_counts)\n",
    "print(Data_tfidf.shape)"
   ]
  },
  {
   "cell_type": "markdown",
   "metadata": {},
   "source": [
    "### 5.2"
   ]
  },
  {
   "cell_type": "code",
   "execution_count": 21,
   "metadata": {},
   "outputs": [
    {
     "name": "stdout",
     "output_type": "stream",
     "text": [
      "SVD Computations Starting...\n",
      "Number of components: 1\n",
      "Homogeneity:  0.0152285258171\n",
      "Completeness:  0.0165015459782\n",
      "V-measure:  0.015839498919\n",
      "Adjusted Rand-Index:  0.0030741944446\n",
      "Adjusted Mutual-Index:  0.0120288829318\n",
      "Contingency Matrix:  [[ 51  22  18  59  53  52   9  61  33  35  39  68   0  62  33  52  19  69\n",
      "    8  56]\n",
      " [122  21  11  83  56  46   5  90  24  28  34  83   0  91  45  69  10  85\n",
      "    2  68]\n",
      " [ 98  20  23  61  85  38   5 110  44  53  64  81   0  63  33  89   7  67\n",
      "    1  43]\n",
      " [ 97  16  20  83  90  32   1 100  33  21  62  89   0  75  20 102  10  86\n",
      "    0  45]\n",
      " [ 76  23  11  78  66  57   0 106  36  40  44  89   0  66  37  75   5  79\n",
      "    3  72]\n",
      " [ 97  27  11 113  37  60   5  90  15  22  26  99   0  78  48  65   3 108\n",
      "    5  79]\n",
      " [ 88  41   4 110  31  79   0  65  10  21  20  96   0 112  62  47   4  93\n",
      "    1  91]\n",
      " [ 66  44   7  78  35  67   2  87  14  68  24  85   0  84  55  73   4 105\n",
      "    1  91]\n",
      " [ 69  57   7  98  38  97   0  54  17  46  16  86   0 103  75  52   3  85\n",
      "    0  93]\n",
      " [ 54  48  10  87  33  77   0  74  17  66  31  78   0  94  75  58  10  90\n",
      "    0  92]\n",
      " [ 72  53  13  93  38  77   2  62  24  43  24  69   0 102  81  52   1  95\n",
      "    0  98]\n",
      " [ 81  31  32  65  82  46   9  86  56  33  73  80   3  56  32  83  26  67\n",
      "    4  46]\n",
      " [ 86  33   4 119  35  63   3  88  18  35  26  90   0  96  46  54   6 104\n",
      "    0  78]\n",
      " [ 65  45  12  86  39  87   3  68  13  40  23 100   0  96  62  59   3 104\n",
      "    0  85]\n",
      " [ 97  37  12  83  53  82   1  58  20  42  26  93   0  74  68  53   5  78\n",
      "    1 104]\n",
      " [105  21  38  66  73  30  29  79  65  28  67  83   1  47  26  84  39  63\n",
      "    7  46]\n",
      " [ 68  29  25  81  50  58  11  75  41  26  52  67   0  61  57  66  19  57\n",
      "    2  65]\n",
      " [ 82  33  14  83  52  55   7  74  16  33  35  80   3  78  52  58   8  95\n",
      "    4  78]\n",
      " [ 64  18  24  74  42  45   9  53  21  29  36  61   1  62  37  67  14  60\n",
      "    5  53]\n",
      " [ 31  32  20  45  41  38  10  54  25  30  32  40   0  41  34  37  13  48\n",
      "    4  53]]\n",
      "Number of components: 2\n",
      "Homogeneity:  0.172656706765\n",
      "Completeness:  0.183240959866\n",
      "V-measure:  0.177791447606\n",
      "Adjusted Rand-Index:  0.0502353312493\n",
      "Adjusted Mutual-Index:  0.169978133405\n",
      "Contingency Matrix:  [[  2 130  79  26   2  69 127   4   0 128  61  53   0   0  37   5   7   0\n",
      "   48  21]\n",
      " [173   2  32   0  56   2   9  91 153   0   0  13  17  66  51  27 125 111\n",
      "   45   0]\n",
      " [111   7  22   0  66   2   5  56 191   1   0   7  64 182  15  10  93  83\n",
      "   70   0]\n",
      " [158   1  14   0  85   2   1  57 190   0   0   3  40 140  15  13  98 129\n",
      "   36   0]\n",
      " [170   1  27   0  96   2   3 101 121   0   0   6   5  46  34  23 140 123\n",
      "   64   1]\n",
      " [215   1  18   0  45   2   4  97 124   0   0   7  18  37  24  12 204 134\n",
      "   46   0]\n",
      " [193   1  55   0  27   2   5 110 105   0   0  12   7  66  39  10 209  70\n",
      "   64   0]\n",
      " [ 23  39 141   0   4  12  41 142   4   7   2 107   0   0 210  40  91  18\n",
      "  107   2]\n",
      " [  9  74 191   0   0  19  71  74   1   5   0 113   0   0 214  30  77  12\n",
      "  105   1]\n",
      " [ 15 121 191   0   2  46 117  29   6  26   0 131   0   1 146  11  31   3\n",
      "  106  12]\n",
      " [  9 161 184   0   1  62 171  14   1  18   0 125   0   0 117   6  31   3\n",
      "   87   9]\n",
      " [ 15  66  73   1  14  55  55 104   5  16   3 157   3   6 120 115  54  36\n",
      "   60  33]\n",
      " [ 80   8  93   0  35   2  12 200  34   1   0  31   0   6 141  35 158  80\n",
      "   68   0]\n",
      " [ 20  94 181   0   1  37  75  66   2   9   4 126   2   0 200  19  59  10\n",
      "   79   6]\n",
      " [ 22  62 187   0   8  28  39 104   6  10   1 114   1   0 200  29  71  22\n",
      "   75   8]\n",
      " [  4 116  46  81   1  73 119  20   1 214 177  37   1   0  27   3   4   3\n",
      "   42  28]\n",
      " [  0 143 114   5   0 119 132  10   0  87  11  98   0   0  72   7  16   1\n",
      "   51  44]\n",
      " [  0 201  94  11   1  68 187   2   0 181  26  42   0   0  41   1   9   0\n",
      "   56  20]\n",
      " [  1 140  91   3   1  77 138   8   3  72   6  88   0   0  55   3   5   0\n",
      "   40  44]\n",
      " [  1  79  71  35   1  47  94   4   0  91  58  42   0   0  29   1  10   0\n",
      "   52  13]]\n",
      "Number of components: 3\n",
      "Homogeneity:  0.208523611131\n",
      "Completeness:  0.230876348384\n",
      "V-measure:  0.219131426152\n",
      "Adjusted Rand-Index:  0.0649480939028\n",
      "Adjusted Mutual-Index:  0.205954911968\n",
      "Contingency Matrix:  [[101   2  12  78   8   9   0   1   7  39   7 104  31   0   0  24 135  70\n",
      "    6 165]\n",
      " [ 14  77   0  65 110   0 142 239   7   0 183   2   0   0  46   2  54   0\n",
      "   28   4]\n",
      " [  8  69   0  89  56   0 237 175   0   0 125   1   0   0 185   1  22   1\n",
      "   10   6]\n",
      " [  2 135   0  46  98   0 196 252   5   0 144   1   0   0  67   0  18   0\n",
      "   17   1]\n",
      " [  3 148   0  79 158   2  77 199   9   0 204   0   0   0  11   1  43   0\n",
      "   27   2]\n",
      " [  7  58   0  64  89   0  96 330   3   0 271   2   0   0  41   1  16   0\n",
      "    7   3]\n",
      " [  5  46   0  95 214   0  88 127  50   0 232   0   0   4  12   2  74   1\n",
      "   23   2]\n",
      " [ 79  10   0 136 125   2   1  11 172   0  69   3   0  20   0  15 231   0\n",
      "  106  10]\n",
      " [111   6   0 146  82   2   1   4 160   0  58   1   0  13   0  25 287   4\n",
      "   81  15]\n",
      " [ 81   3   0 137  23  13   4  11 257   0  26   4   0 156   0  28 214   1\n",
      "   28   8]\n",
      " [ 41   1   0 109  12   8   0   7 339   0  17   1   0 265   0  26 155   0\n",
      "   12   6]\n",
      " [136  27   0  84 119  35   5  18  79   0  55   5   0  16   6  69 135   0\n",
      "  183  19]\n",
      " [ 30  61   0  99 249   0  21  77  60   0 187   2   0   0   0   4 140   1\n",
      "   48   5]\n",
      " [208   4   1 118  86   4   1  16  81   1  68  13   1   1   2  39 281   1\n",
      "   40  24]\n",
      " [141  13   0 120 118   6   4  18  87   0  66   0   0   3   1  41 271   0\n",
      "   84  14]\n",
      " [ 34   1  64  68  15   5   1   8   0 112  12 103  94   0   1   8  57 199\n",
      "    3 212]\n",
      " [237   2   0  82  12  48   0   1  49   1  12  14   0  12   0 167 223   3\n",
      "   19  28]\n",
      " [308   1   2  82   5  26   0   0  26   1   8  30   4   5   0 140 227   5\n",
      "    5  65]\n",
      " [202   0   0  62  10  40   2   2  45   1   4  28   0   5   0 108 184   0\n",
      "   15  67]\n",
      " [ 71   1  27  81   5   7   0   1   4  30   7  65  28   0   0  22 104  57\n",
      "    3 115]]\n",
      "Number of components: 5\n",
      "Homogeneity:  0.27044272893\n",
      "Completeness:  0.297305025212\n",
      "V-measure:  0.283238398589\n",
      "Adjusted Rand-Index:  0.091614488536\n",
      "Adjusted Mutual-Index:  0.268079957819\n",
      "Contingency Matrix:  [[218  30   0   2  72   3   0  37 119   0  80   1  23   0 150   0  12   2\n",
      "   49   1]\n",
      " [ 26   0  56 248  23  90   0  59  99   1   0   0   3   0   1  68 268   1\n",
      "    5  25]\n",
      " [ 14   0  83 265  12  55   4  22 110  15   0   0   3   0   2 211 161   0\n",
      "    0  28]\n",
      " [  8   0 167  51  10  74  86  40  68 161   0   0   3   2   0  16  98   1\n",
      "    0 197]\n",
      " [ 10   0 118  28  11 101  28  63 120 110   0   0   3   0   0   4 103   1\n",
      "    2 261]\n",
      " [  9   0   9 315   9  64   0  24  92   0   0   1   4   0   0  69 386   0\n",
      "    0   6]\n",
      " [  9   0  56  14  16  37  38 170 136  78   0   0   0   7   1   4  64  25\n",
      "    1 319]\n",
      " [ 53   0   0   8 174  33   0 369 207   3   0   0  11   1   5   0  46  17\n",
      "    7  56]\n",
      " [ 64   0   0   2 179  26   0 387 234  11   0   0   7   0   7   0  31  15\n",
      "    2  31]\n",
      " [ 21   0   0   9  74   8   0 184 188   0   1   0   1 145   3   1  29 322\n",
      "    6   2]\n",
      " [ 11   0   0   4  34   1   0 109 139   0   0   0   0 260   4   1  12 419\n",
      "    3   2]\n",
      " [143   0   0  15  23  47   0  31 117   0   0 247 277   0   2   9  44   1\n",
      "   26   9]\n",
      " [ 55   0  21  29  50 151   1 242 168  15   0   2  13   0   2   1 140   3\n",
      "    0  91]\n",
      " [223   2   1  12 174  32   0 189 227   0   2   0   6   0   8   2  93   1\n",
      "   18   0]\n",
      " [141   0   0  20 164  52   0 244 226   0   0   0  35   0   7   1  68   4\n",
      "   19   6]\n",
      " [111 113   0   7  32   6   0  15  94   0 252   0   4   0 321   2  16   0\n",
      "   23   1]\n",
      " [255   1   0   0 112   4   0  67 130   0   2   1 187   0  17   0  11   1\n",
      "  120   2]\n",
      " [334   2   0   1  58   1   0  26 140   0   4   0 256   0  28   0   6   0\n",
      "   84   0]\n",
      " [254   0   0   4 104   5   0  49 109   0   1   0 127   0  20   0   6   1\n",
      "   92   3]\n",
      " [134  39   0   2  45   3   0  23 121   0  71   0  24   0 119   0   7   2\n",
      "   38   0]]\n",
      "Number of components: 10\n",
      "Homogeneity:  0.278067250388\n",
      "Completeness:  0.314834268401\n",
      "V-measure:  0.295310760954\n",
      "Adjusted Rand-Index:  0.0926565588048\n",
      "Adjusted Mutual-Index:  0.275721798066\n",
      "Contingency Matrix:  [[ 24   0   0  11   2  56   1   0   0   4  14   0   0 125 161   1  90   1\n",
      "  298  11]\n",
      " [135   0 219   1   1   0   0   0   0 122 205  28  42   0 126   6  11  24\n",
      "   31  22]\n",
      " [ 81   0 288   0   0   0   0   0  10  58  60  37 266   1 137   3   4   5\n",
      "   22  13]\n",
      " [140   1  95   0   2   0   0   0 142  58 109 268  28   0  80  10   1  15\n",
      "   11  22]\n",
      " [244   0  42   0   1   0   0   0  53  71 117 231   4   0 130  11   5   7\n",
      "    9  38]\n",
      " [140   0 364   0   0   0   0   0   0  60 157   5  51   0 149  16   4  14\n",
      "   20   8]\n",
      " [171   6  19   0  13   0   0   0  48  20 101  98   7   1 130   1   4 312\n",
      "    7  37]\n",
      " [246   0   3   3   0   0   0   0   2  21  49   4   0   3 192   2   9  17\n",
      "   78 361]\n",
      " [257   1   1   0   3   0   0   0   1   9  50  17   0   6 232   0  16   7\n",
      "  117 279]\n",
      " [ 40 116   1   0 394   0   0   0   0  27  35   0   0   3 263   1  11  15\n",
      "   75  13]\n",
      " [ 11 241   0   0 436   0   0   0   0  13  21   0   0   0 176   0  17  36\n",
      "   42   6]\n",
      " [ 83   0  13  11   1   0 160   0   0   8  42   4   4   1 143 351  45   3\n",
      "  117   5]\n",
      " [405   0  21   0   5   0   0   0   2  53 142  36   2   1 161  28   4  13\n",
      "   30  81]\n",
      " [141   0   1   4   0   3   0  71   0  24 105   0   1   3 262   1  40  12\n",
      "  289  33]\n",
      " [285   0   7   5   5   0   0   0   0  12  74   0   0   1 271   3  47  57\n",
      "  166  54]\n",
      " [ 15   0   0  13   0 168   0   0   0  12  34   1   1 390 135   0  42   1\n",
      "  185   0]\n",
      " [ 42   0   0  87   2   1   0   0   0   1  21   0   0   8 197   5 178   5\n",
      "  352  11]\n",
      " [ 10   0   0 428   2   2   0   0   0   1  15   0   0   9 180   2  56   4\n",
      "  229   2]\n",
      " [ 27   0   1  57   5   0   0   0   0   6  11   1   0   4 162   3 142   7\n",
      "  343   6]\n",
      " [ 15   0   1  16   4  57   0   2   0   2   7   0   0 119 155   1  59   0\n",
      "  187   3]]\n"
     ]
    },
    {
     "name": "stdout",
     "output_type": "stream",
     "text": [
      "Number of components: 20\n",
      "Homogeneity:  0.273509055148\n",
      "Completeness:  0.335546663101\n",
      "V-measure:  0.301368324877\n",
      "Adjusted Rand-Index:  0.0692313714571\n",
      "Adjusted Mutual-Index:  0.271144082457\n",
      "Contingency Matrix:  [[  0 273   2   1 160 185   2   0   0  60  11   0   2   1  80   3  15   0\n",
      "    0   4]\n",
      " [  0 204   3  45   0  75 194   0  29   0 130   0   0   0   0   0  64   4\n",
      "   58 167]\n",
      " [ 17 210   1  49   1  51 130   0 290   0  56   0   0   0   2   0  34   1\n",
      "   73  70]\n",
      " [185 163   4  14   0  40  17   0  44   0  87   0   4   3   0   0  49   1\n",
      "  198 173]\n",
      " [ 99 209   1  13   0  61   8   0   5   0  81   0   0   1   0   0  67   1\n",
      "  104 313]\n",
      " [  1 223   8 393   0  42  64   0  44   0  95   0   0   0   1   0  49   4\n",
      "    7  57]\n",
      " [ 54 196   1   1   1  19   2   0  14   0  68   0  41  16   1   0  11  74\n",
      "   43 433]\n",
      " [  3 368   1   3   3 111   1   0   0   0  37   0 391   0  20   0  28   2\n",
      "    0  22]\n",
      " [ 12 451   0   2   5 223   0   0   0   0  35   0 213   2   8   0  26   0\n",
      "    0  19]\n",
      " [  0 420   1   0   1 132   1   0   0   0  36   0   1 371   1   0  24   5\n",
      "    0   1]\n",
      " [  0 305   0   0   0  83   0   0   0   0  20   0   1 559   1   0  11  18\n",
      "    0   1]\n",
      " [  0 282 329   2   1 107  16   0   5   0  20   0   1   0 136   0  18   2\n",
      "    3  69]\n",
      " [ 11 371   6   5   1 119  12   0   3   0  79   0  30   2   5   0  66   1\n",
      "    9 264]\n",
      " [  0 455   0   0   5 283   1   1   1   3  54  71   3   0   9   0  45   0\n",
      "    0  59]\n",
      " [  0 415   0   1   0 249  13   0   0   0  32   0   2   1  22   0  17   1\n",
      "    0 234]\n",
      " [  0 214   0   0 441 101   1   0   1 174  22   0   1   0  15   2  22   0\n",
      "    0   3]\n",
      " [  0 310   0   1   7 119   2   0   0   1   9   0   3   1 440   2  10   3\n",
      "    1   1]\n",
      " [  0 281   0   0  11 113   0 165   0   3   4   0   0   0  66 278  14   3\n",
      "    0   2]\n",
      " [  1 309   0   0   9 169   0   0   0   0   7   0   2   1 256   1   8   0\n",
      "    0  12]\n",
      " [  0 234   0   0 136 110   1   0   0  56   6   2   2   2  64   2  12   0\n",
      "    0   1]]\n",
      "Number of components: 50\n",
      "Homogeneity:  0.297280549979\n",
      "Completeness:  0.370230140052\n",
      "V-measure:  0.329769159647\n",
      "Adjusted Rand-Index:  0.0726547856021\n",
      "Adjusted Mutual-Index:  0.294994521995\n",
      "Contingency Matrix:  [[  9 344  59   2   0  93   2   7   3   4   0   1   1   0   0   0   0   2\n",
      "  271   1]\n",
      " [  0  13  58 408  36   0   3 157   0   9   6   5   1   0   0  52   0   0\n",
      "  225   0]\n",
      " [  1   9  43 193 329   1   1  71   0   8   5  21   0   0  16  77   0   0\n",
      "  210   0]\n",
      " [  0   1  46 220  41   0   4 100   0   1  15   0   2   0 184 168   0   2\n",
      "  198   0]\n",
      " [  0   4  64 327   5   0   1 107   0   4  14   1   1   0 102  76   0   0\n",
      "  257   0]\n",
      " [  0   3  40 369  47   0  10 101   0   5   8 168   1   0   1   6   0   0\n",
      "  228   1]\n",
      " [  0   3  32  46  14   0   0  48   0   0 444   1  12   0  51  37   0  24\n",
      "  263   0]\n",
      " [ 13  16 173   2   0   0   1  33   0   0  10   3   0   0   3   0   0 323\n",
      "  412   1]\n",
      " [  7  15 452   0   0   2   0  33   0   1  12   2   2   0  12   0   0  29\n",
      "  429   0]\n",
      " [  1  23  83   3   0   1   1  39   0   0   6   0  89   0   0   0   0   1\n",
      "  374 373]\n",
      " [  1  13  50   0   0   0   0  19   0   0  13   0 223   0   0   0   0   1\n",
      "  268 411]\n",
      " [ 90  42  85  62   7   0 339  20   0   2   2   0   0   0   0   2   0   1\n",
      "  339   0]\n",
      " [  5   7 132 162   3   1   7 100   0   8  13   1   2   0  13  12   0  17\n",
      "  501   0]\n",
      " [  1 123 155  11   1   4   0  66   0   6   1   0   0  71   0   0   0   0\n",
      "  550   1]\n",
      " [  7  25 112  17   1   0   0  26   0 351   5   0   0   0   0   0   0   1\n",
      "  438   4]\n",
      " [  7 440  28   0   1 271   0  23   1   2   0   0   0   0   0   0   0   0\n",
      "  223   1]\n",
      " [442  55  70   1   0   3   0   6   2   4   4   1   1   0   0   1   0   2\n",
      "  317   1]\n",
      " [ 23 105  57   0   0   6   0   3 272   0   3   0   0   0   0   0 162   0\n",
      "  308   1]\n",
      " [158 186  89   0   0   1   0   6   1   1   2   0   1   0   1   0   0   2\n",
      "  326   1]\n",
      " [ 54 199  41   1   0  85   0   4   2   1   0   0   2   2   0   0   0   2\n",
      "  235   0]]\n",
      "Number of components: 100\n",
      "Homogeneity:  0.267911499369\n",
      "Completeness:  0.365992298761\n",
      "V-measure:  0.309364120574\n",
      "Adjusted Rand-Index:  0.0499019112423\n",
      "Adjusted Mutual-Index:  0.265525577141\n",
      "Contingency Matrix:  [[  6 324  54   3   0   0   1   0   0   3   3   0 301   0  83   0   2   0\n",
      "   14   5]\n",
      " [190  63   0   0   0   0  25   6   0   0   0   0 394  59   0   1   3  30\n",
      "    0 202]\n",
      " [ 79  42   0   0   1   0  40   4   0   0   0   3 300  76   1  15   1 284\n",
      "    0 139]\n",
      " [139  30   0   3   0   0   7  19   2   0   0  76 327 184   0 127   5  45\n",
      "    0  18]\n",
      " [159  54   0   0   0   0   4  16   1   0   0  34 480 111   0  90   1   5\n",
      "    0   8]\n",
      " [118  30   0   0   0   0 388   7   0   0   0   0 318  11   0   1   9  46\n",
      "    0  60]\n",
      " [ 59  22   0  27   0   0   1 471  11   0   0  12 264  40   0  50   0  15\n",
      "    0   3]\n",
      " [ 42  83   0 370   6   0   4  11   0   0   1   0 468   0   0   3   1   0\n",
      "    0   1]\n",
      " [ 29 112   0 277   2   0   2  10   2   0   0   0 543   0   2  15   0   0\n",
      "    2   0]\n",
      " [ 45  84   0   1   0   0   0  10 374   0   1   0 475   0   1   0   1   0\n",
      "    0   2]\n",
      " [ 22  60   0   2   1   0   0  23 582   0   0   0 309   0   0   0   0   0\n",
      "    0   0]\n",
      " [ 21 202   0   1   6   0   1   2   0   0   5   0 385   3   0   0 345   5\n",
      "    0  15]\n",
      " [129  81   0  23   2   0   4  14   2   0   0   2 677  15   1  13   7   4\n",
      "    0  10]\n",
      " [ 73 254   0   1   0  71   1   2   0   0   1   0 579   0   4   0   0   1\n",
      "    1   2]\n",
      " [ 37 214   0   1   1   0   1  10   1   0   0   0 708   0   0   0   0   0\n",
      "    0  14]\n",
      " [ 25 131 356   0   1   0   0   0   0   1   3   0 257   0 174   0   0   1\n",
      "   47   1]\n",
      " [  6 190   4   2 196   0   1   4   2   2 150   0 345   1   3   0   0   0\n",
      "    1   3]\n",
      " [  3 161   2   0   0   0   0   3   0 278 181   0 305   0   6   0   0   0\n",
      "    1   0]\n",
      " [  7 298   1   3  12   0   0   2   2   1  54   0 313   0   0   2   0   0\n",
      "   80   0]\n",
      " [  5 145 113   2   9   1   0   0   0   2  40   0 252   0  48   0   0   0\n",
      "   10   1]]\n",
      "Number of components: 300\n",
      "Homogeneity:  0.261235229653\n",
      "Completeness:  0.377047724962\n",
      "V-measure:  0.308634746732\n",
      "Adjusted Rand-Index:  0.0558543881747\n",
      "Adjusted Mutual-Index:  0.25880975084\n",
      "Contingency Matrix:  [[  2   6   3   5  98   1  58   0  24   0   2 285   2 303   0   0   4   0\n",
      "    6   0]\n",
      " [  0 528   0   2   0   5   0  46  27   0   3  36   8 299   0   2  17   0\n",
      "    0   0]\n",
      " [  0 231   0   0   1  22   2 390   2   0   1  29   6 269   0  18  13   1\n",
      "    0   0]\n",
      " [  2 422   0   0   0   2   0  55   4   0   4   9   1 231   0 220  28   0\n",
      "    0   4]\n",
      " [  0 467   0   0   0   1   0   5   1   0   1  13   4 325   0 114  31   0\n",
      "    0   1]\n",
      " [  0 359   0   0   0 163   0  55   9   0  11  14   3 362   0   1  11   0\n",
      "    0   0]\n",
      " [ 32 200   0   2   0   1   0  25  21   0   0  16   2 568   0  80   2   4\n",
      "    0  22]\n",
      " [324  23   0   2   0   3   0   0   4   0   1  65   0 538   0   3  26   0\n",
      "    1   0]\n",
      " [ 24  16   0   5   3   2   0   1   6   0   0  82   1 587   0  12  13 243\n",
      "    0   1]\n",
      " [  1  35   0   1   1   0   1   0   8   0   1  63   0 476   0   0  17   0\n",
      "    1 389]\n",
      " [  1  15   0   0   0   0   0   0   0   0   0  41   1 308   0   0  20   0\n",
      "    0 613]\n",
      " [  1  54   0   0   0   0   0   7   6   0 346 188   3 366   0   0  10   0\n",
      "    9   1]\n",
      " [ 20 203   0   0   1   1   0   5  13   0   6  30   7 663   0  16  16   0\n",
      "    0   3]\n",
      " [  0  50   0   0   4   0   0   1  11  71   0 202   0 624   0   0  27   0\n",
      "    0   0]\n",
      " [  1  26   0   0   0   0   1   0  12   0   0  93 328 501   0   0  23   0\n",
      "    0   2]\n",
      " [  0  22   2  26 322   0   2   1  46   0   0 297   2 258   0   0  15   0\n",
      "    4   0]\n",
      " [  3   5   2   0   3   1   0   0   0   0   0 356   0 349   0   0  18   0\n",
      "  172   1]\n",
      " [  0   3 272   4   6   0   2   0   4   0   0 178   0 303 158   0   8   0\n",
      "    2   0]\n",
      " [  2   6   1   2   1   0   2   0   1   0   0 363   2 320   0   1  16   0\n",
      "   57   1]\n",
      " [  2   2   2   4  94   0  37   0  11   2   0 159   1 258   0   0  11   0\n",
      "   43   2]]\n"
     ]
    }
   ],
   "source": [
    "k_means = KMeans(n_clusters=20, init='k-means++', max_iter=300, n_init=1)\n",
    "r_values = [1, 2, 3, 5, 10, 20, 50, 100, 300]\n",
    "homogeneity_svd = np.zeros(len(r_values))\n",
    "completeness_svd = np.zeros(len(r_values))\n",
    "v_measure_svd = np.zeros(len(r_values))\n",
    "rand_index_svd = np.zeros(len(r_values))\n",
    "mutual_index_svd = np.zeros(len(r_values))\n",
    "print('SVD Computations Starting...')\n",
    "index = 0\n",
    "for i in r_values:\n",
    "    svd = TruncatedSVD(n_components=i, random_state=42)\n",
    "    trauncated_tfidf = svd.fit_transform(Data_tfidf)\n",
    "    print(\"Number of components: %d\" % i)\n",
    "    k_means.fit(trauncated_tfidf)\n",
    "    print('Homogeneity: ', metrics.homogeneity_score(labels, k_means.labels_))\n",
    "    homogeneity_svd[index] = metrics.homogeneity_score(labels, k_means.labels_)\n",
    "    print('Completeness: ', metrics.completeness_score(labels, k_means.labels_))\n",
    "    completeness_svd[index] = metrics.completeness_score(labels, k_means.labels_)\n",
    "    print('V-measure: ', metrics.v_measure_score(labels, k_means.labels_))\n",
    "    v_measure_svd[index] = metrics.v_measure_score(labels, k_means.labels_)\n",
    "    print('Adjusted Rand-Index: ', metrics.adjusted_rand_score(labels, k_means.labels_))\n",
    "    rand_index_svd[index] = metrics.adjusted_rand_score(labels, k_means.labels_)\n",
    "    print('Adjusted Mutual-Index: ', metrics.adjusted_mutual_info_score(labels, k_means.labels_))\n",
    "    mutual_index_svd[index] = metrics.adjusted_mutual_info_score(labels, k_means.labels_)\n",
    "    print('Contingency Matrix: ', confusion_matrix(labels, k_means.labels_))\n",
    "    index += 1"
   ]
  },
  {
   "cell_type": "markdown",
   "metadata": {},
   "source": [
    "##### Found that number of components for SVD is 10"
   ]
  },
  {
   "cell_type": "code",
   "execution_count": 22,
   "metadata": {},
   "outputs": [
    {
     "name": "stdout",
     "output_type": "stream",
     "text": [
      "NMF Computations Starting....\n",
      "Number of components: 1\n",
      "Homogeneity:  0.0149631106606\n",
      "Completeness:  0.0162705740201\n",
      "V-measure:  0.015589476686\n",
      "Adjusted Rand-Index:  0.00296341711587\n",
      "Adjusted Mutual-Index:  0.0117611878923\n",
      "Contingency Matrix:  [[ 82  24  11  47  29  56  57  67  36  52  19  34  60  58   0  61   8  40\n",
      "   16  42]\n",
      " [ 91  24   3  64  19  57  98 106  29 111  10  30  73  81   0  71   5  49\n",
      "   10  42]\n",
      " [ 77  22   1  84  37  35 100  60  54  98   9  47  94  68   0  62   5  40\n",
      "   21  71]\n",
      " [102  16   0  89  32  35  97  69  21  98   8  53  86  85   0  69   4  28\n",
      "   19  71]\n",
      " [ 94  25   3  62  32  57  92  75  40  91   4  38  78  82   0  70   1  52\n",
      "   11  56]\n",
      " [104  32   5  38   9  67  80 114  22 106   4  22  84 113   0  75   5  58\n",
      "   10  40]\n",
      " [109  49   1  35   7  87  71 117  21  86   4  17  53 108   0 115   0  65\n",
      "    4  26]\n",
      " [ 92  49   1  53  13  73  74  80  68  85   4  18  75 106   0 103   2  61\n",
      "    7  26]\n",
      " [ 91  64   0  40  13 103  60 106  46  76   3  16  53 102   0 101   0  86\n",
      "    7  29]\n",
      " [ 95  54   0  44  14  90  57  91  67  67   9  28  67  93   0  95   1  86\n",
      "   10  26]\n",
      " [ 82  61   0  40  20  95  61 105  44  72   1  23  60 107   0 103   2  81\n",
      "   13  29]\n",
      " [ 80  37   4  82  50  50  82  64  34  80  23  62  76  66   3  53  14  33\n",
      "   30  68]\n",
      " [111  34   0  41  12  73  84 114  35  89   5  21  60 119   0  88   4  53\n",
      "    4  37]\n",
      " [ 99  48   1  50  13  88  73 108  40  85   4  15  50 100   0  89   2  80\n",
      "   10  35]\n",
      " [ 99  40   1  51  18 101  78  76  43  84   5  21  51  96   0  92   1  81\n",
      "   11  38]\n",
      " [ 84  23  10  67  57  36  97  58  29  96  37  57  71  65   1  48  29  29\n",
      "   37  66]\n",
      " [ 58  38   3  54  36  54  76  60  26  78  16  43  62  80   0  76  14  68\n",
      "   24  44]\n",
      " [ 97  36   5  46  13  68  81  87  33  82   8  30  60  87   3  77   7  61\n",
      "   13  46]\n",
      " [ 60  18   6  61  19  48  47  64  31  73  14  29  54  80   1  63   8  43\n",
      "   24  32]\n",
      " [ 44  35   5  37  24  43  41  48  30  40  12  22  41  48   1  48  10  43\n",
      "   19  37]]\n",
      "Number of components: 2\n",
      "Homogeneity:  0.163008679747\n",
      "Completeness:  0.174295870067\n",
      "V-measure:  0.168463423815\n",
      "Adjusted Rand-Index:  0.047639941514\n",
      "Adjusted Mutual-Index:  0.160280460264\n",
      "Contingency Matrix:  [[  2  49  39  78   0   5 101 145   2 134   0  33   1   1   0   7  33 164\n",
      "    0   5]\n",
      " [157  47  20   1  75 106  19   9  28   1 126   0  68 147   9  60  58   3\n",
      "   17  22]\n",
      " [108  72  11   0 156  74  14   4  29   2 165   0  43 127   9  40  26   5\n",
      "   92   8]\n",
      " [128  35   9   0 119  77   7   3  45   2 163   0  67 193   4  39  23   0\n",
      "   62   6]\n",
      " [158  60  10   1  60 113  12   4  59   1 105   0  90 151   2  61  54   1\n",
      "   13   8]\n",
      " [197  40  10   0  47 169   7   4  23   2  93   0  62 204   8  57  41   2\n",
      "   15   7]\n",
      " [187  63  15   1  50 174  24   7  12   0  77   0  57 113   1  80  86   0\n",
      "   19   9]\n",
      " [ 25 115 138   7   0  42 116 104   4  24   4   1  24   5   0 116 173  50\n",
      "    0  42]\n",
      " [ 13 113 119   7   0  49 163 173   3  35   1   0   8   3   0  60 146  71\n",
      "    0  32]\n",
      " [ 16 111  68  33   1  20 184 204   3  88   3   1   3   6   0  18  70 153\n",
      "    0  12]\n",
      " [  8  95  33  39   1  17 189 235   0 105   0   2   3   4   0  13  70 179\n",
      "    0   6]\n",
      " [ 17  67 129  44   8  39  67  92  22  70   5   9  45  18   0 105  73  72\n",
      "    4 105]\n",
      " [ 98  73  52   0  10 110  45  36  37   5  32   0  79  44   0 171 172   4\n",
      "    0  16]\n",
      " [ 21  87 115  19   0  48 175 151   2  55   2   2  10   9   1  57 113 103\n",
      "    1  19]\n",
      " [ 30  89 134  14   2  36 143 107   9  43   6   3  20  12   0  78 166  54\n",
      "    1  40]\n",
      " [  2  45  47 163   0   5  74 136   2 187   0  83   6   5   0  17  21 190\n",
      "    1  13]\n",
      " [  1  54  56  88   0  16 126 171   1 145   0  24   0   1   0   9  42 165\n",
      "    0  11]\n",
      " [  0  57  26  56   0   6 137 220   0 152   1  17   0   0   0   4  24 236\n",
      "    0   4]\n",
      " [  2  47  44  68   1   2 104 180   0 120   3  18   1   0   0   8  28 143\n",
      "    0   6]\n",
      " [  1  55  28  64   0   7  83 120   1  93   0  34   1   1   0   6  23 109\n",
      "    0   2]]\n",
      "Number of components: 3\n",
      "Homogeneity:  0.178317257732\n",
      "Completeness:  0.203824079474\n",
      "V-measure:  0.190219415556\n",
      "Adjusted Rand-Index:  0.0507540789926\n",
      "Adjusted Mutual-Index:  0.175641542024\n",
      "Contingency Matrix:  [[132   1  49  65  13   0   6  60  25  88  17   0  10   2   8 105   8 124\n",
      "   44  42]\n",
      " [ 57 219   0  10   0 160 184   0  10  62   0  44  97  72   0   1  32  25\n",
      "    0   0]\n",
      " [ 23 160   1   7   0 256 124   0   2  88   0 155  70  69   0   1  18  11\n",
      "    0   0]\n",
      " [ 17 232   0   2   0 224 129   0   4  50   0  95  89 108   0   0  20  12\n",
      "    0   0]\n",
      " [ 45 197   0   3   0 128 194   0   5  85   0  21 106 124   0   1  39  15\n",
      "    0   0]\n",
      " [ 26 285   0   4   0 111 262   0   1  65   0  29 106  72   0   1  16  10\n",
      "    0   0]\n",
      " [ 86 162   1   8   0  99 225   0   5 101   0  29 164  39   0   3  25  28\n",
      "    0   0]\n",
      " [234   9   2 123   0   1  52   2  40 135   0   0  85   8   5   3  77 214\n",
      "    0   0]\n",
      " [263   2   3 135   0   1  46   1  41 131   0   0  62   7   2   8  43 250\n",
      "    0   1]\n",
      " [237  11   1 181   0   5  25   5  84 127   0   0  20   4  11   6  16 260\n",
      "    0   1]\n",
      " [243   7   0 212   0   1  16   1 102 107   0   0  18   1  11   4   8 268\n",
      "    0   0]\n",
      " [129  14   0 167   0   6  40   3 133  83   0   5  79  26  32   3 102 169\n",
      "    0   0]\n",
      " [156  70   1  30   0  29 139   2   4  99   0   0 214  67   0   2  69 102\n",
      "    0   0]\n",
      " [271  12   0 135   1   3  52   7  34 112   1   2  74   4   3   9  33 235\n",
      "    1   1]\n",
      " [267  17   2 117   0   8  35   0  55 121   0   1  82  11   6   9  51 205\n",
      "    0   0]\n",
      " [ 52   6 177  12  65   1  12  45   8  77  51   1  18   2   2 196   4  46\n",
      "  126  96]\n",
      " [181   0   4 190   0   0   9  13 146  76   0   0  10   2  41  16  14 206\n",
      "    1   1]\n",
      " [198   0   4 213   2   1   6  25  86  79   0   0   7   0  18  24   6 266\n",
      "    1   4]\n",
      " [152   1   2 161   0   3   2  24  87  62   0   0  10   0  33  22   9 206\n",
      "    1   0]\n",
      " [ 98   1  55  40  30   0   8  44  15  86  12   0   4   1   8  79   3  81\n",
      "   31  32]]\n",
      "Number of components: 5\n",
      "Homogeneity:  0.237445393315\n",
      "Completeness:  0.279257016585\n",
      "V-measure:  0.256659504073\n",
      "Adjusted Rand-Index:  0.0710982161011\n",
      "Adjusted Mutual-Index:  0.234964476707\n",
      "Contingency Matrix:  [[ 35   6   0  53   0 134   0   2 136   1  49   3   0  17 113   0   2  10\n",
      "  195  43]\n",
      " [  6  19   0   0  37  96   0 188  32   1   0 264   3 219   1   0  46   0\n",
      "   61   0]\n",
      " [  2   7   0   1 140 112   4 273  20   0   0 193  27 129   1   0  48   0\n",
      "   28   0]\n",
      " [  1   5   1   0   9  73  92  62  15   3   0 113 176 102   2   0 291   0\n",
      "   37   0]\n",
      " [  6  10   0   0   2 137  30  24  24   1   0  83 125 120   1   0 330   0\n",
      "   70   0]\n",
      " [  0   8   0   0  41  82   0 170  13   0   0 354   1 281   1   0  10   0\n",
      "   27   0]\n",
      " [  3 115   8   1   2 178  40  21  16  38   0  34  86  96   3   4 267   0\n",
      "   63   0]\n",
      " [ 26  35   0   0   0 230   0   5 172   1   0  18   3  71   5   0  46   0\n",
      "  377   1]\n",
      " [ 21  21   1   3   0 253   0   1 181   1   0   9  12  57   8   0  24   0\n",
      "  404   0]\n",
      " [  5 293 126   1   0 153   0   9  27 245   0  18   0  18   4  34   1   0\n",
      "   60   0]\n",
      " [  5 204 236   0   0  94   0   2  16 289   0   8   0   8   2 102   0   0\n",
      "   33   0]\n",
      " [143   8   0   0   5 116   0  13 343   1   0  28   0  75   2   0  12   0\n",
      "  244   1]\n",
      " [  0  29   0   1   0 189   2  21  80   3   0  75  14 202   3   0  89   0\n",
      "  276   0]\n",
      " [ 25  15   0   1   1 212   0   5 195   0   2  28   0 107   5   0   0   1\n",
      "  391   2]\n",
      " [ 30  38   0   0   1 226   0   9 193   3   0  33   0  89  11   0   3   0\n",
      "  351   0]\n",
      " [ 11   8   0 201   1  95   0   2  38   0 133   9   0  25 253   0   1  51\n",
      "   80  89]\n",
      " [148  15   0   3   0 133   0   1 292   2   1   2   0  15  12   0   1   0\n",
      "  283   2]\n",
      " [ 88  11   0   5   0 138   0   1 329   0   0   1   0  13  13   0   0   2\n",
      "  331   8]\n",
      " [ 96  14   0   1   0 107   0   4 244   1   1   1   0  15  13   0   3   0\n",
      "  269   6]\n",
      " [ 19   3   0  52   0 130   0   1  92   3  35   2   0  10  79   0   0  26\n",
      "  136  40]]\n",
      "Number of components: 10\n",
      "Homogeneity:  0.268846108896\n",
      "Completeness:  0.315796993563\n",
      "V-measure:  0.290436310848\n",
      "Adjusted Rand-Index:  0.0765993735017\n",
      "Adjusted Mutual-Index:  0.266464998987\n",
      "Contingency Matrix:  [[ 53 163   0   0   0   2  51   0   0   0  10 126   0 224   1   0  10   0\n",
      "  157   2]\n",
      " [  1  17   0  18   0   3   0   0   0  17 198   0  43 239   0   1 106 246\n",
      "   76   8]\n",
      " [  0  12   0  31   9   1   0   0   0   6  79   1 255 182   0   0  37 329\n",
      "   42   1]\n",
      " [  0   2   1 225 132   4   0   0   1  23 118   0  22 162   0   1 116 130\n",
      "   43   2]\n",
      " [  0   5   1 180  47   1   0   0   0  19 127   0   4 252   0   1 188  48\n",
      "   85   5]\n",
      " [  1   5   1   3   0   8   0   0   0   9 112   0  63 262   0   2  54 415\n",
      "   49   4]\n",
      " [  0   7   9  59  45   0   0   0   5 326  44   1   7  94   0  70 262  13\n",
      "   14  19]\n",
      " [  6  39   0  14   2   1   0   0   0  57  42   3   0 309   1   3 304   5\n",
      "  201   3]\n",
      " [  1  45   2  23   0   0   0   0   0  15  32   7   0 375   0   0 145   2\n",
      "  342   7]\n",
      " [  3  21 216   1   0   1   0   0  57   7  36   2   0 223   0   4  15   1\n",
      "   63 344]\n",
      " [  0  10 296   0   0   0   0   0 177  23  13   0   0 132   0   9   5   0\n",
      "   36 298]\n",
      " [ 46 156   0   1   0 331   0   0   0   3  22   1   5 249   9   1  40  19\n",
      "  107   1]\n",
      " [  0  20   3  26   2   7   0   0   0  16 111   1   2 351   0   0 252  27\n",
      "  156  10]\n",
      " [  3  97   0   0   0   0   3  71   0  11  70   3   1 387   1   0  67   0\n",
      "  273   3]\n",
      " [ 10  85   0   0   0   0   0   0   0  42  32   3   0 375   1   2 186   9\n",
      "  232  10]\n",
      " [ 24 119   0   1   0   0 160   0   0   0  28 385   1 176   0   0  26   1\n",
      "   76   0]\n",
      " [240 322   0   0   0   0   1   0   0   5   7   7   0 159  55   0  17   0\n",
      "   90   7]\n",
      " [316 222   0   0   0   0   2   0   0   4   4   7   0 139 204   0   2   0\n",
      "   38   2]\n",
      " [158 303   1   3   0   0   0   0   0   5   8   4   0 143  26   0  26   1\n",
      "   92   5]\n",
      " [ 46 117   1   0   0   0  55   2   0   0   5 108   0 186   6   0  12   1\n",
      "   85   4]]\n"
     ]
    },
    {
     "name": "stdout",
     "output_type": "stream",
     "text": [
      "Number of components: 20\n",
      "Homogeneity:  0.235591121707\n",
      "Completeness:  0.299244254408\n",
      "V-measure:  0.263629867091\n",
      "Adjusted Rand-Index:  0.0488873865205\n",
      "Adjusted Mutual-Index:  0.23310041305\n",
      "Contingency Matrix:  [[ 18 130 312   0   0 120   0   0   0 109   2  79   4   1   2   2   9   3\n",
      "    8   0]\n",
      " [ 55  78 293  54   0   7   0   1   0   0   2  30 259  14   0  19   0   0\n",
      "  134  27]\n",
      " [ 35  64 256  68   0  12   0   1  21   0   1  26 115  28   0  13   0   0\n",
      "   68 277]\n",
      " [ 40  79 274 187   3   3   0   1 190   0   4  11  19   6   2  31   1   0\n",
      "   97  34]\n",
      " [ 72 100 390 125   1   7   0   1 108   0   1  22  12   2   0  21   0   0\n",
      "   97   4]\n",
      " [ 48  46 291  10   1   8   0   2   1   0   8  13  87 307   0  16   0   0\n",
      "  104  46]\n",
      " [ 13  42 222  51  22   9   0  51  60   0   1   7   3   1  27 394   0   0\n",
      "   60  12]\n",
      " [ 27 118 423   0   0  23   0   1   3   0   1  22   1   3 315  13   1   0\n",
      "   39   0]\n",
      " [ 30 181 569   0   2  21   0   0  13   0   0  40   2   2  78  21   1   0\n",
      "   36   0]\n",
      " [ 24 136 394   0 322   8   0   4   0   1   1  42   2   0   1  21   1   0\n",
      "   37   0]\n",
      " [ 10  64 279   0 543   8   0  11   0   0   0  32   0   0   1  35   0   0\n",
      "   16   0]\n",
      " [ 26 113 345   1   0  81   0   1   0   0 331  37  18   0   1   4   8   0\n",
      "   20   5]\n",
      " [ 65 164 563  11   4   7   0   0  14   0   7  10  12   1  18  29   0   0\n",
      "   76   3]\n",
      " [ 49 171 536   0   0  52  71   0   0   3   0  34   7   0   0  12   1   0\n",
      "   54   0]\n",
      " [ 24 179 588   0   0  50   0   1   0   0   0  40  47   0   1  25   2   0\n",
      "   30   0]\n",
      " [ 25  80 274   0   0  66   0   0   0 483   0  35   0   0   0   3   4   3\n",
      "   23   1]\n",
      " [ 13 121 331   1   0 147   0   1   0   4   0  45   1   1   3   9 223   2\n",
      "    8   0]\n",
      " [ 20  84 297   0   0  76   0   0   0   4   0  34   0   0   0   6   7 407\n",
      "    5   0]\n",
      " [ 11 117 307   0   1 195   0   0   1   1   0  54   2   0   2  12  64   1\n",
      "    7   0]\n",
      " [ 12  67 258   0   2  56   1   0   0 137   0  38   2   0   2   0  49   1\n",
      "    3   0]]\n"
     ]
    }
   ],
   "source": [
    "print('NMF Computations Starting....')\n",
    "homogeneity_nmf = np.zeros(len(r_values))\n",
    "completeness_nmf = np.zeros(len(r_values))\n",
    "v_measure_nmf = np.zeros(len(r_values))\n",
    "rand_index_nmf = np.zeros(len(r_values))\n",
    "mutual_index_nmf = np.zeros(len(r_values))\n",
    "index = 0\n",
    "r_values = [1, 2, 3, 5, 10, 20]\n",
    "for i in r_values:\n",
    "    nmf = NMF(n_components=i, init='random', random_state=42)\n",
    "    nmf_tfidf = nmf.fit_transform(Data_tfidf)\n",
    "    print(\"Number of components: %d\" % i)\n",
    "    k_means.fit(nmf_tfidf)\n",
    "    print('Homogeneity: ', metrics.homogeneity_score(labels, k_means.labels_))\n",
    "    homogeneity_nmf[index] = metrics.homogeneity_score(labels, k_means.labels_)\n",
    "    print('Completeness: ', metrics.completeness_score(labels, k_means.labels_))\n",
    "    completeness_nmf[index] = metrics.completeness_score(labels, k_means.labels_)\n",
    "    print('V-measure: ', metrics.v_measure_score(labels, k_means.labels_))\n",
    "    v_measure_svd[index] = metrics.v_measure_score(labels, k_means.labels_)\n",
    "    print('Adjusted Rand-Index: ', metrics.adjusted_rand_score(labels, k_means.labels_))\n",
    "    rand_index_nmf[index] = metrics.adjusted_rand_score(labels, k_means.labels_)\n",
    "    print('Adjusted Mutual-Index: ', metrics.adjusted_mutual_info_score(labels, k_means.labels_))\n",
    "    mutual_index_nmf[index] = metrics.adjusted_mutual_info_score(labels, k_means.labels_)\n",
    "    print('Contingency Matrix: ', confusion_matrix(labels, k_means.labels_))\n",
    "    index += 1"
   ]
  },
  {
   "cell_type": "markdown",
   "metadata": {},
   "source": [
    "##### found number of components is optimal at 10 for NMF"
   ]
  },
  {
   "cell_type": "markdown",
   "metadata": {},
   "source": [
    "### Non linear Logarithmic transformation"
   ]
  },
  {
   "cell_type": "code",
   "execution_count": 23,
   "metadata": {},
   "outputs": [
    {
     "name": "stdout",
     "output_type": "stream",
     "text": [
      "Homogeneity:  0.312239713276\n",
      "Completeness:  0.317535130799\n",
      "V-measure:  0.314865158965\n",
      "Adjusted Rand-Index:  0.168451619907\n",
      "Adjusted Mutual-Index:  0.3100197085\n"
     ]
    }
   ],
   "source": [
    "nmf = NMF(n_components=10, init='random', random_state=42)\n",
    "nmf_tfidf = nmf.fit_transform(Data_tfidf)\n",
    "log_nmf_matrix = np.log(0.001+nmf_tfidf)\n",
    "k_means_nmf = KMeans(n_clusters=20, init='k-means++', max_iter=300, n_init=10)\n",
    "k_means_nmf.fit(log_nmf_matrix)\n",
    "\n",
    "print('Homogeneity: ', metrics.homogeneity_score(labels, k_means_nmf.labels_))\n",
    "print('Completeness: ', metrics.completeness_score(labels, k_means_nmf.labels_))\n",
    "print('V-measure: ', metrics.v_measure_score(labels, k_means_nmf.labels_))\n",
    "print('Adjusted Rand-Index: ', metrics.adjusted_rand_score(labels, k_means_nmf.labels_))\n",
    "print('Adjusted Mutual-Index: ', metrics.adjusted_mutual_info_score(labels, k_means_nmf.labels_))"
   ]
  },
  {
   "cell_type": "markdown",
   "metadata": {},
   "source": [
    "### Normalize the SVD Data"
   ]
  },
  {
   "cell_type": "code",
   "execution_count": 24,
   "metadata": {},
   "outputs": [
    {
     "name": "stdout",
     "output_type": "stream",
     "text": [
      "Homogeneity:  0.281055381634\n",
      "Completeness:  0.334610474775\n",
      "V-measure:  0.305503622485\n",
      "Adjusted Rand-Index:  0.0803854920898\n",
      "Adjusted Mutual-Index:  0.278715526661\n"
     ]
    }
   ],
   "source": [
    "svd = TruncatedSVD(n_components=10, random_state=42, n_iter=13)\n",
    "x = svd.fit_transform(Data_tfidf)\n",
    "normalized_x = (x-x.mean(axis=0, keepdims=True))/(x.std(axis=0, keepdims=True) + x.mean(axis=0, keepdims=True))\n",
    "k_means = KMeans(n_clusters=20, init='k-means++', max_iter=300, n_init=10)\n",
    "k_means.fit(normalized_x)\n",
    "\n",
    "print('Homogeneity: ', metrics.homogeneity_score(labels, k_means.labels_))\n",
    "print('Completeness: ', metrics.completeness_score(labels, k_means.labels_))\n",
    "print('V-measure: ', metrics.v_measure_score(labels, k_means.labels_))\n",
    "print('Adjusted Rand-Index: ', metrics.adjusted_rand_score(labels, k_means.labels_))\n",
    "print('Adjusted Mutual-Index: ', metrics.adjusted_mutual_info_score(labels, k_means.labels_))"
   ]
  },
  {
   "cell_type": "markdown",
   "metadata": {},
   "source": [
    "#### Running log first and then normalizing the data"
   ]
  },
  {
   "cell_type": "code",
   "execution_count": 25,
   "metadata": {
    "scrolled": true
   },
   "outputs": [
    {
     "name": "stdout",
     "output_type": "stream",
     "text": [
      "Homogeneity:  0.310383170087\n",
      "Completeness:  0.315808629621\n",
      "V-measure:  0.313072396184\n",
      "Adjusted Rand-Index:  0.151658756069\n",
      "Adjusted Mutual-Index:  0.308157119999\n"
     ]
    }
   ],
   "source": [
    "x = np.log(0.001+nmf_tfidf)\n",
    "normalized_x = (x-x.mean(axis=0, keepdims=True))/(x.std(axis=0, keepdims=True) + x.mean(axis=0, keepdims=True))\n",
    "k_means = KMeans(n_clusters=20, init='k-means++', max_iter=300, n_init=10)\n",
    "k_means.fit(normalized_x)\n",
    "\n",
    "print('Homogeneity: ', metrics.homogeneity_score(labels, k_means.labels_))\n",
    "print('Completeness: ', metrics.completeness_score(labels, k_means.labels_))\n",
    "print('V-measure: ', metrics.v_measure_score(labels, k_means.labels_))\n",
    "print('Adjusted Rand-Index: ', metrics.adjusted_rand_score(labels, k_means.labels_))\n",
    "print('Adjusted Mutual-Index: ', metrics.adjusted_mutual_info_score(labels, k_means.labels_))"
   ]
  },
  {
   "cell_type": "markdown",
   "metadata": {},
   "source": [
    "#### Normalizing the data and the logging it. Added the min value to all points such that log does not return an error"
   ]
  },
  {
   "cell_type": "code",
   "execution_count": 26,
   "metadata": {},
   "outputs": [
    {
     "name": "stdout",
     "output_type": "stream",
     "text": [
      "Homogeneity:  0.057676261021\n",
      "Completeness:  0.25036945454\n",
      "V-measure:  0.0937547466643\n",
      "Adjusted Rand-Index:  0.0309288799046\n",
      "Adjusted Mutual-Index:  0.057517290138\n"
     ]
    }
   ],
   "source": [
    "x = nmf_tfidf\n",
    "normalized_tfidf = (x-x.mean(axis=0, keepdims=True))/(x.std(axis=0, keepdims=True) + x.mean(axis=0, keepdims=True))\n",
    "logging_normalized_x = np.log(0.718657278385+normalized_tfidf)\n",
    "k_means_nmf = KMeans(n_clusters=2, init='k-means++', max_iter=300, n_init=10)\n",
    "k_means_nmf.fit(logging_normalized_x)\n",
    "\n",
    "print('Homogeneity: ', metrics.homogeneity_score(labels, k_means_nmf.labels_))\n",
    "print('Completeness: ', metrics.completeness_score(labels, k_means_nmf.labels_))\n",
    "print('V-measure: ', metrics.v_measure_score(labels, k_means_nmf.labels_))\n",
    "print('Adjusted Rand-Index: ', metrics.adjusted_rand_score(labels, k_means_nmf.labels_))\n",
    "print('Adjusted Mutual-Index: ', metrics.adjusted_mutual_info_score(labels, k_means_nmf.labels_))"
   ]
  }
 ],
 "metadata": {
  "kernelspec": {
   "display_name": "Python 3",
   "language": "python",
   "name": "python3"
  },
  "language_info": {
   "codemirror_mode": {
    "name": "ipython",
    "version": 3
   },
   "file_extension": ".py",
   "mimetype": "text/x-python",
   "name": "python",
   "nbconvert_exporter": "python",
   "pygments_lexer": "ipython3",
   "version": "3.6.3"
  }
 },
 "nbformat": 4,
 "nbformat_minor": 2
}
